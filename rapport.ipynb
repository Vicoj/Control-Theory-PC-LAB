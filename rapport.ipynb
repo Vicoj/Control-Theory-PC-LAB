{
 "cells": [
  {
   "cell_type": "markdown",
   "metadata": {},
   "source": [
    "# Rapport 1"
   ]
  },
  {
   "cell_type": "markdown",
   "metadata": {},
   "source": [
    "# 1. INTRO"
   ]
  },
  {
   "cell_type": "markdown",
   "metadata": {},
   "source": [
    "- non linéaire -> Point de fontionnement 50% (25-75)\n",
    "- Utiliser DL\n",
    "- Faire diagramme de bode (Prise de mesure) Extra\n",
    "- Wc = 1/T\n",
    "\n",
    "### A rendre\n",
    "\n",
    "a. Graphical Methode\n",
    "\n",
    "- Broyda (delay, premiere ordre) = FOPDT 2x\n",
    "- VGD (Second ordre) = SOPDT 1x\n",
    "- STRETCH 1x\n",
    "\n",
    "b. Optimal Method\n",
    "\n",
    "- BROIDA 1x\n",
    "- VGD 1x\n",
    "\n",
    "### Attention\n",
    "\n",
    "- T<0 => Systeme instable (poles a gauche) en fct du a obtenu par la position du pito (point d'inflection Tg oblique)\n",
    "\n",
    "### Prochain labo\n",
    "\n",
    "- Créer Lead Lag \n",
    "- Marge de Gain et phase (Bode)\n"
   ]
  },
  {
   "cell_type": "markdown",
   "metadata": {},
   "source": [
    "# 2.Optimal Methode"
   ]
  },
  {
   "cell_type": "markdown",
   "metadata": {},
   "source": [
    "### - BROIDA (FOPDT) :\n",
    "![here](Output/FOPDT_CLean.png)"
   ]
  },
  {
   "cell_type": "markdown",
   "metadata": {},
   "source": [
    "### - VDG (SOPDT) :\n",
    "![here](Output/SOPDT_CLean.png)"
   ]
  },
  {
   "cell_type": "markdown",
   "metadata": {},
   "source": []
  },
  {
   "cell_type": "markdown",
   "metadata": {},
   "source": [
    "# 3. Labo3\n",
    "\n",
    "-  Boucle fermée\n",
    "- IMC tuning Pv0 determiner en experience\n",
    "- gamma calcul agressivitee \n",
    "- alpha filtre\n",
    "- Faire senarios\n",
    "- Faire  "
   ]
  },
  {
   "cell_type": "markdown",
   "metadata": {},
   "source": []
  }
 ],
 "metadata": {
  "interpreter": {
   "hash": "b4868442bdd667c63ab4ce33975dd2ca6f53ee44872791d723c80d6aa895ffb1"
  },
  "kernelspec": {
   "display_name": "Python 3.9.12 ('ControlLab')",
   "language": "python",
   "name": "python3"
  },
  "language_info": {
   "name": "python",
   "version": "3.9.12"
  },
  "orig_nbformat": 4
 },
 "nbformat": 4,
 "nbformat_minor": 2
}
