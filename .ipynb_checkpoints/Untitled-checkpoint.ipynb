{
 "cells": [
  {
   "cell_type": "code",
   "execution_count": null,
   "id": "f7994b98-acef-4c36-be9d-21bfa21fa534",
   "metadata": {},
   "outputs": [],
   "source": [
    "import numpy as np\n",
    "import matplotlib.pyplot as plt\n",
    "from scipy.optimize import minimize\n",
    "from matplotlib import colors as mcolors\n",
    "\n",
    "import package_DBR\n",
    "from package_DBR import myRound, SelectPath_RT, Delay_RT, FO_RT, FOPDT, SOPDT, FOPDT_cost, SOPDT_cost, Process, Bode"
   ]
  },
  {
   "cell_type": "code",
   "execution_count": 4,
   "id": "c7ae9549-a7c2-4a2c-87ea-45b45be7f83e",
   "metadata": {},
   "outputs": [
    {
     "ename": "SyntaxError",
     "evalue": "invalid syntax (Temp/ipykernel_22312/3494427248.py, line 8)",
     "output_type": "error",
     "traceback": [
      "\u001b[1;36m  File \u001b[1;32m\"C:\\Users\\natha\\AppData\\Local\\Temp/ipykernel_22312/3494427248.py\"\u001b[1;36m, line \u001b[1;32m8\u001b[0m\n\u001b[1;33m    return E, MV, MVp, MVi, MVd\u001b[0m\n\u001b[1;37m    ^\u001b[0m\n\u001b[1;31mSyntaxError\u001b[0m\u001b[1;31m:\u001b[0m invalid syntax\n"
     ]
    }
   ],
   "source": [
    "\n",
    "\n",
    "def PID_RT(PID_val,PV,SP,Man,MV_MAN,MV_FF,E,PVInit=0,Kc, Ti, Tfd, Ts, TF, Td, alpha):\n",
    "    if(len(PV)==0):\n",
    "        E.append(SP[-1]-PVInit)\n",
    "    else :\n",
    "        E.append(SP[-1]-PV[-1])\n",
    "    \n",
    "    MVp.append(Kc*E[-1])#elementwise multiplication : np.multiply\n",
    "    \n",
    "    MVi.append(MVi[-1]+(Kc*Ts*E[-1])/Ti)\n",
    "    \n",
    "    if(len(E)<2) :\n",
    "        MVd.append((Tfd/(Tfd+1))*MVd[-1] + ((Kc*Td)/(Tfd+Ts))*(E[-1]))\n",
    "    else :\n",
    "         MVd.append((Tfd/(Tfd+1))*MVd[-1] + ((Kc*Td)/(Tfd+Ts))*(E[-1])-E[-2])\n",
    "    \n",
    "    return E, MV, MVp, MVi, MVd\n"
   ]
  },
  {
   "cell_type": "code",
   "execution_count": null,
   "id": "344f9640-9dee-4711-b9da-1821f173c940",
   "metadata": {},
   "outputs": [],
   "source": [
    "\n"
   ]
  },
  {
   "cell_type": "code",
   "execution_count": null,
   "id": "89f86ac5-e742-40e9-ac02-aa22550b2475",
   "metadata": {},
   "outputs": [],
   "source": []
  }
 ],
 "metadata": {
  "kernelspec": {
   "display_name": "Python 3 (ipykernel)",
   "language": "python",
   "name": "python3"
  },
  "language_info": {
   "codemirror_mode": {
    "name": "ipython",
    "version": 3
   },
   "file_extension": ".py",
   "mimetype": "text/x-python",
   "name": "python",
   "nbconvert_exporter": "python",
   "pygments_lexer": "ipython3",
   "version": "3.9.7"
  }
 },
 "nbformat": 4,
 "nbformat_minor": 5
}
